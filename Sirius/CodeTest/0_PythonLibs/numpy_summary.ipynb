{
 "cells": [
  {
   "cell_type": "code",
   "execution_count": 1,
   "metadata": {},
   "outputs": [
    {
     "data": {
      "text/plain": [
       "' numpy란     numeric python의 약자    n차원 배열 (ndarray)을 이용한 행렬 연산(성분별 연산)을 통해 고속 연산을 제공하는 라이브러리\\n    ndarray는 동일 타입의 원소를 담고, shape과 dtype이라는 속성을 가진다.'"
      ]
     },
     "execution_count": 1,
     "metadata": {},
     "output_type": "execute_result"
    }
   ],
   "source": [
    "# pip install numpy\n",
    "import numpy as np\n",
    "\n",
    "''' numpy란 \\\n",
    "    numeric python의 약자\\\n",
    "    n차원 배열 (ndarray)을 이용한 행렬 연산(성분별 연산)을 통해 고속 연산을 제공하는 라이브러리\n",
    "    ndarray는 동일 타입의 원소를 담고, shape과 dtype이라는 속성을 가진다.'''\n"
   ]
  },
  {
   "cell_type": "code",
   "execution_count": 2,
   "metadata": {},
   "outputs": [
    {
     "name": "stdout",
     "output_type": "stream",
     "text": [
      "1 int32 (3,)\n",
      "int32 float64\n"
     ]
    }
   ],
   "source": [
    "# array함수를 통해 ndarray 생성 (인자로 sequence 전달)\n",
    "arr = np.array([1,2,3])\n",
    "# ndarray의 속성값\n",
    "print(arr.ndim,arr.dtype,arr.shape)\n",
    "# astype함수를 통해 type을 변경한 ndarray를 생성할 수 있다. => 이를 통해 정수로 이루어진 문자열 ndarray도 type을 바꿀 수 있다.\n",
    "arr1 = arr.astype(np.float64)\n",
    "print(arr.dtype,   arr1.dtype)"
   ]
  },
  {
   "cell_type": "code",
   "execution_count": 3,
   "metadata": {},
   "outputs": [
    {
     "data": {
      "text/plain": [
       "(2, 3)"
      ]
     },
     "execution_count": 3,
     "metadata": {},
     "output_type": "execute_result"
    }
   ],
   "source": [
    "    \n",
    "#2차원 ndarray 생성\n",
    "arr= np.array([[1,2,3],[4,5,6]])\n",
    "arr.shape\n",
    "\n"
   ]
  },
  {
   "cell_type": "code",
   "execution_count": 4,
   "metadata": {},
   "outputs": [
    {
     "name": "stdout",
     "output_type": "stream",
     "text": [
      "[[0. 0. 0.]\n",
      " [0. 0. 0.]]\n",
      "[[1. 1. 1. 1. 1.]]\n",
      "[1 3 5]\n",
      "[0 0 0]\n",
      "[0.         0.11111111 0.22222222 0.33333333 0.44444444 0.55555556\n",
      " 0.66666667 0.77777778 0.88888889 1.        ]\n",
      "[[0.82107069 0.84098435 0.22987558 0.89058128]\n",
      " [0.23349367 0.63858602 0.01340648 0.67508069]]\n",
      "[[ 1.15782251 -2.02961804  2.65473651  0.64790571]\n",
      " [-0.39935221  1.16295594  0.24673823 -1.33904791]]\n"
     ]
    }
   ],
   "source": [
    "# 기본 methods\n",
    "# zeros, ones, arange ( arange는 python의 range객체와 같이 사용)\n",
    "a = np.zeros((2,3))\n",
    "b = np.ones((1,5))\n",
    "c = np.arange(1,6,2)\n",
    "d = np.zeros_like(c) # 인자로 받은 array와 동일한 shape과 dtype의 zeros 배열 생성\n",
    "print(a,b,c,d,sep= '\\n')\n",
    "\n",
    "# np.linspace(a,b,num) a<= 원소 <=b 인 원소 num개를 균등한 간격으로 가진 배열 생성\n",
    "a = np.linspace(0,1,10)\n",
    "print(a)\n",
    "\n",
    "# np.random.random((shape)) -> 0~1사이의 균등분포에서 원소를 추출하여 shape를 가진 배열 생성, shape은 tuple형태로 전달\n",
    "a = np.random.random((2,4))\n",
    "print(a)\n",
    "\n",
    "#np.random.randn(shape) mean = 0, std = 1인 정규분포에서 shape size의 난수를 원소로하는 배열을 생성, shape는 ()없이 전달 randn이랑 reshape,transpose만 shape를 ()에 싸지 않고 전달\n",
    "a = np.random.randn(2,4)\n",
    "print(a)\n",
    "\n",
    "# np.random.normal(loc,scale,(shape))의 경우 평균과 표준편차를 지정할 수 있음"
   ]
  },
  {
   "cell_type": "code",
   "execution_count": 5,
   "metadata": {},
   "outputs": [
    {
     "name": "stdout",
     "output_type": "stream",
     "text": [
      "[5 7 9] [ 4 10 18] [2 4 6]\n"
     ]
    }
   ],
   "source": [
    "''' 배열간 또는 스칼라와 element wise 연산'''\n",
    "na = np.array([1,2,3])\n",
    "nb = np.array([4,5,6])\n",
    "print(na + nb, na * nb, na *2, sep = ' ')\n",
    "\n"
   ]
  },
  {
   "cell_type": "code",
   "execution_count": 6,
   "metadata": {},
   "outputs": [
    {
     "name": "stdout",
     "output_type": "stream",
     "text": [
      "1 [1 2 3]\n",
      "\n",
      "6\n",
      "[[1 2]\n",
      " [6 7]]\n",
      "[ 6  7  8  9 10]\n",
      "[1 6]\n",
      "[[1 2]\n",
      " [6 7]]\n"
     ]
    }
   ],
   "source": [
    "''' numpy indexing & slicing\n",
    "numpy의 1차원배열의 경우 파이썬 내장 리스트의 indexing과 slicing을 동일하게 적용할 수 있다. \n",
    "다만 slicing을 할 때, shallow copy이므로 deep copy 객체를 생성하려면.copy()함수를 사용한다.\n",
    "다차원 배열의 경우에는 python 내장 리스트와 같이 indexing과 slicing을 할 수 잇으나comma를 통해서 indexing과 slicing을 할 수 있다.'''\n",
    "\n",
    "aa = np.array([1,2,3,4,5])\n",
    "print(aa[0],aa[:3],end='\\n\\n')\n",
    "\n",
    "bb = np.array([[1,2,3,4,5], [6,7,8,9,10]])\n",
    "print(bb[1,0],bb[:2,:2],bb[1,:],bb[:,0],bb[:,:2],sep ='\\n')"
   ]
  },
  {
   "cell_type": "code",
   "execution_count": 7,
   "metadata": {},
   "outputs": [
    {
     "data": {
      "text/plain": [
       "array([[ 1.76405235,  0.40015721,  0.97873798,  2.2408932 ],\n",
       "       [ 1.86755799, -0.97727788,  0.95008842, -0.15135721],\n",
       "       [-0.10321885,  0.4105985 ,  0.14404357,  1.45427351],\n",
       "       [ 0.76103773,  0.12167502,  0.44386323,  0.33367433],\n",
       "       [ 1.49407907, -0.20515826,  0.3130677 , -0.85409574],\n",
       "       [-2.55298982,  0.6536186 ,  0.8644362 , -0.74216502],\n",
       "       [ 2.26975462, -1.45436567,  0.04575852, -0.18718385]])"
      ]
     },
     "execution_count": 7,
     "metadata": {},
     "output_type": "execute_result"
    }
   ],
   "source": [
    "# 논리 인덱싱\n",
    "names = np.array(['Bob', 'Joe', 'Will', 'Bob', 'Will', 'Joe', 'Joe'])\n",
    "\n",
    "np.random.seed(0)\n",
    "\n",
    "data = np.random.randn(7, 4)\n",
    "data"
   ]
  },
  {
   "cell_type": "code",
   "execution_count": 8,
   "metadata": {},
   "outputs": [
    {
     "name": "stdout",
     "output_type": "stream",
     "text": [
      "[[1.76405235 0.40015721]\n",
      " [0.76103773 0.12167502]]\n",
      "\n",
      "[[1.76405235 0.40015721 0.97873798 2.2408932 ]\n",
      " [1.86755799 0.         0.95008842 0.        ]\n",
      " [0.         0.4105985  0.14404357 1.45427351]\n",
      " [0.76103773 0.12167502 0.44386323 0.33367433]\n",
      " [1.49407907 0.         0.3130677  0.        ]\n",
      " [0.         0.6536186  0.8644362  0.        ]\n",
      " [2.26975462 0.         0.04575852 0.        ]]\n"
     ]
    }
   ],
   "source": [
    "arr = data[names == \"Bob\",:2]\n",
    "print(arr, end = '\\n\\n') #이 때 arr는 deep copy 객체\n",
    "mask = (names == 'Bob') | (names == 'Will') # numpy 논리 연산자로 and or등을 사용할 수 없고 반드시 &,|를 사용해야된다.\n",
    "arr_m = data[mask]\n",
    "# 논리 인덱싱으로 원본 데이터 수정\n",
    "data[data < 0] = 0\n",
    "print(data)"
   ]
  },
  {
   "cell_type": "code",
   "execution_count": 9,
   "metadata": {},
   "outputs": [
    {
     "name": "stdout",
     "output_type": "stream",
     "text": [
      "[[0. 0. 0. 0.]\n",
      " [1. 1. 1. 1.]\n",
      " [2. 2. 2. 2.]\n",
      " [3. 3. 3. 3.]\n",
      " [4. 4. 4. 4.]\n",
      " [5. 5. 5. 5.]\n",
      " [6. 6. 6. 6.]\n",
      " [7. 7. 7. 7.]]\n",
      "\n",
      "[[4. 4. 4. 4.]\n",
      " [3. 3. 3. 3.]\n",
      " [0. 0. 0. 0.]\n",
      " [6. 6. 6. 6.]] \n",
      "\n",
      "\n",
      "[4. 3. 0. 6.]\n"
     ]
    }
   ],
   "source": [
    "# 정수 인덱싱\n",
    "arr = np.empty((8, 4))\n",
    "\n",
    "for i in range(8):\n",
    "    arr[i] = i\n",
    "print(arr, end ='\\n\\n')\n",
    "# 음수를 포함한 행 인덱스 배열을 ndarray의 index로 주어 특정 행만 뽑을 수 있다.\n",
    "print(arr[[-4, -5, 0, 6]], '\\n\\n')\n",
    "#  2개의 인덱스 배열을 인자로 주면 인덱스 배열들의 대응하는 원소별 튜플에 해당하는 원소들로 구성된 1차원 ndarray가 반환된다.  \n",
    "print(arr[[-4, -5, 0, 6],[0,2,3,1]])\n"
   ]
  },
  {
   "cell_type": "code",
   "execution_count": 10,
   "metadata": {},
   "outputs": [
    {
     "name": "stdout",
     "output_type": "stream",
     "text": [
      "[[  30   80  130  180]\n",
      " [  80  255  430  605]\n",
      " [ 130  430  730 1030]\n",
      " [ 180  605 1030 1455]]\n",
      "\n",
      "[[[ 0  1  2  3]\n",
      "  [ 4  5  6  7]\n",
      "  [ 8  9 10 11]]\n",
      "\n",
      " [[12 13 14 15]\n",
      "  [16 17 18 19]\n",
      "  [20 21 22 23]]]\n"
     ]
    }
   ],
   "source": [
    "# 행렬의 전치\n",
    "arr = np.arange(0,20).reshape(4,5)\n",
    "arr = arr.dot(arr.T) # dot연산등에 활용\n",
    "print(arr,end = '\\n\\n')\n",
    "\n",
    "arr_3 = np.arange(2*3*4).reshape(2,3,4) # reshape 에 인자로 -1을 넣으면 예시의 2*3*4의 값을 맞추는 인자가 -1대신 채워진다. ex) 2,3,-1 -> -1대신 4가 채워짐\n",
    "print(arr_3)\n",
    "\n",
    "arr_3 = arr_3.transpose(2,0,1) # axis 0 -> 면, 1 -> 행, 2-> 열 ->> 2 * 3 * 4 행렬을 4*2*3 행렬로 전치 \n",
    "# 같은 열 기준으로 4개의 면이 구성 각 면별로 2행( 기존의 면으로 구분되던 원소들이 행으로), 3열 (기존의 행을 구성하던 원소들이 열로) 로 전환된다.\n",
    "# 비슷한 함수 arr.swapaxes(0,2) -> 면과 열의 축 전치 ==> arr.transpose(2,1,0)"
   ]
  },
  {
   "cell_type": "code",
   "execution_count": 11,
   "metadata": {},
   "outputs": [
    {
     "name": "stdout",
     "output_type": "stream",
     "text": [
      "[[ 1  2  3  4  5  6]\n",
      " [10 20 30 40 50 60]]\n",
      "\n",
      "[ 1  2 34  2  5  4]\n",
      "\n",
      "[[1]\n",
      " [4]]\n",
      "[[2 3]\n",
      " [5 6]]\n"
     ]
    }
   ],
   "source": [
    "''' 배열의 병합과 분리'''\n",
    "# axis defautl -> 0, concatenate할 배열들을 튜플로 전달\n",
    "a = np.array([[1,2,3],[10,20,30]])\n",
    "b = np.array([[4,5,6],[40,50,60]])\n",
    "c = np.concatenate((a,b),axis = 1)\n",
    "print(c,end='\\n\\n')\n",
    "a = np.array([1,2,34])\n",
    "b = np.array([2,5,4])\n",
    "c = np.concatenate((a,b))\n",
    "print(c,end='\\n\\n')\n",
    "\n",
    "# split(array, [index], axis = 0) axis -> default 0\n",
    "# 분리된 배열은 튜플로 전달받음\n",
    "a = np.array([[1,2,3],[4,5,6]])\n",
    "\n",
    "c,d = np.split(a,[1],axis=1)   \n",
    "print(c,d,sep ='\\n')\n"
   ]
  },
  {
   "cell_type": "code",
   "execution_count": 12,
   "metadata": {},
   "outputs": [
    {
     "name": "stdout",
     "output_type": "stream",
     "text": [
      "[[1.         1.41421356 1.73205081]\n",
      " [2.         2.23606798 2.44948974]]\n",
      "[[  2.71828183   7.3890561   20.08553692]\n",
      " [ 54.59815003 148.4131591  403.42879349]]\n",
      "[[2 5 4]\n",
      " [4 5 6]]\n"
     ]
    }
   ],
   "source": [
    "# 범용 함수 ndarray 성분별 연산을 한 ndarray를 return한다.\n",
    "print(np.sqrt(a)) #-> square root (제곱근)\n",
    "print(np.exp(a)) # -> 성분별 지수표현\n",
    "print(np.maximum(a,b)) # 두 배열의 성분별 가장 큰 성분 ndarray return\n",
    "# 범용함수는 out 이라는 인자에 원본이 수정되길 원하는 ndarray를 주어 원본을 수정할 수 있다.\n",
    "# 이 외에 sign, mod등의 함수등이 있다."
   ]
  },
  {
   "cell_type": "code",
   "execution_count": 13,
   "metadata": {},
   "outputs": [
    {
     "name": "stdout",
     "output_type": "stream",
     "text": [
      "[[ 1.  2.  3.  4.  5.  6.  7.  8.  9. 10.]\n",
      " [ 1.  2.  3.  4.  5.  6.  7.  8.  9. 10.]\n",
      " [ 1.  2.  3.  4.  5.  6.  7.  8.  9. 10.]\n",
      " [ 1.  2.  3.  4.  5.  6.  7.  8.  9. 10.]\n",
      " [ 1.  2.  3.  4.  5.  6.  7.  8.  9. 10.]\n",
      " [ 1.  2.  3.  4.  5.  6.  7.  8.  9. 10.]\n",
      " [ 1.  2.  3.  4.  5.  6.  7.  8.  9. 10.]\n",
      " [ 1.  2.  3.  4.  5.  6.  7.  8.  9. 10.]\n",
      " [ 1.  2.  3.  4.  5.  6.  7.  8.  9. 10.]\n",
      " [ 1.  2.  3.  4.  5.  6.  7.  8.  9. 10.]]\n",
      "[[-10. -10. -10. -10. -10. -10. -10. -10. -10. -10.]\n",
      " [ -9.  -9.  -9.  -9.  -9.  -9.  -9.  -9.  -9.  -9.]\n",
      " [ -8.  -8.  -8.  -8.  -8.  -8.  -8.  -8.  -8.  -8.]\n",
      " [ -7.  -7.  -7.  -7.  -7.  -7.  -7.  -7.  -7.  -7.]\n",
      " [ -6.  -6.  -6.  -6.  -6.  -6.  -6.  -6.  -6.  -6.]\n",
      " [ -5.  -5.  -5.  -5.  -5.  -5.  -5.  -5.  -5.  -5.]\n",
      " [ -4.  -4.  -4.  -4.  -4.  -4.  -4.  -4.  -4.  -4.]\n",
      " [ -3.  -3.  -3.  -3.  -3.  -3.  -3.  -3.  -3.  -3.]\n",
      " [ -2.  -2.  -2.  -2.  -2.  -2.  -2.  -2.  -2.  -2.]\n",
      " [ -1.  -1.  -1.  -1.  -1.  -1.  -1.  -1.  -1.  -1.]]\n"
     ]
    },
    {
     "data": {
      "text/plain": [
       "array([1, 1, 1, 1, 0, 0, 0, 1, 1, 1])"
      ]
     },
     "execution_count": 13,
     "metadata": {},
     "output_type": "execute_result"
    }
   ],
   "source": [
    "# meshgrid\n",
    "# x_scale (x좌표 범위) 1차원배열, y_scale (y좌표 범위) 1차원 배열을 전달받아\n",
    "# 2차원 격자점을 구성하는 x범위 * y범위의 2차원 배열(x범위의 원소 하나당 y범위 원소 개수 만큼의 원소가 필요) 과, y범위 * x범위의 2차원 배열을 튜플로 return한다.\n",
    "arr1 = np.linspace(1,10,10)\n",
    "arr2 = np.linspace(-10,-1,10)\n",
    "x,y = np.meshgrid(arr1,arr2)\n",
    "print(x,y,sep ='\\n')\n",
    "# 삼항 연산\n",
    "arr = np.random.randn(10)\n",
    "np.where(arr>0,1,0) # 인자별로 condition, true expression, false expression이다"
   ]
  },
  {
   "cell_type": "code",
   "execution_count": 14,
   "metadata": {},
   "outputs": [
    {
     "name": "stdout",
     "output_type": "stream",
     "text": [
      "[[ 9.61267318  9.69769725  8.95144703  8.57998206]\n",
      " [ 8.29372981 11.9507754   9.49034782  9.5619257 ]\n",
      " [ 8.74720464 10.77749036  8.38610215  9.78725972]\n",
      " [ 9.10453344 10.3869025   9.48919486  8.81936782]\n",
      " [ 9.97181777 10.42833187 10.06651722 10.3024719 ]]\n",
      "\n",
      "평균:9.620288624815684,표준편차:0.8761478836329045,분산:0.7676351139944175,합:192.4057724963137,최댓값:11.95077539523179,최솟값:8.293729809374987\n",
      "\n",
      "[  9.61267318  19.31037043  28.26181747  36.84179953  45.13552934\n",
      "  57.08630473  66.57665255  76.13857825  84.88578289  95.66327325\n",
      " 104.0493754  113.83663512 122.94116856 133.32807106 142.81726592\n",
      " 151.63663373 161.60845151 172.03678338 182.1033006  192.4057725 ]\n",
      "[9.61267318e+00 9.32207943e+01 8.34461003e+02 7.15966043e+03\n",
      " 5.93802892e+04 7.09640499e+05 6.73473516e+06 6.43970372e+07\n",
      " 5.63294063e+08 6.07089633e+09 5.09111567e+10 4.98280714e+11\n",
      " 4.53661342e+12 4.71213613e+13 4.47143779e+14 3.94352546e+15\n",
      " 3.93241172e+16 4.10084945e+17 4.12812716e+18 4.25299141e+19]\n",
      "\n",
      "7 True False\n",
      "\n",
      "[[-0.63432209 -0.36274117 -0.67246045]\n",
      " [-0.35955316 -0.81314628 -1.7262826 ]]\n",
      "\n",
      "[[-0.67246045 -0.63432209 -0.36274117]\n",
      " [-1.7262826  -0.81314628 -0.35955316]]\n"
     ]
    }
   ],
   "source": [
    "#수학 통계 논리 정렬 method\n",
    "arr = np.random.normal(10,1,(5,4))\n",
    "print(arr,end='\\n\\n')\n",
    "print(f\"평균:{arr.mean()},표준편차:{arr.std()},분산:{arr.var()},합:{arr.sum()},최댓값:{arr.max()},최솟값:{arr.min()}\",end='\\n\\n')\n",
    "print(arr.cumsum(),arr.cumprod(),sep='\\n',end='\\n\\n') #각각 누적합이 표현된 배열과 누적곱이 표현된 배열 return\n",
    "# 이외에도 argmax,argmin함수 -> index별 최대,최소 return\n",
    "#논리 연산 활용\n",
    "arr = np.array([ True,  True,  True,  True,  True, False, False,  True, False,\n",
    "        True])\n",
    "print((arr>0).sum(),any(arr>0),all(arr>0),end='\\n\\n')\n",
    "#정렬 method\n",
    "arr = np.random.randn(2,3)\n",
    "print(arr,end='\\n\\n')\n",
    "arr.sort()\n",
    "print(arr) #axis = default(0)이어서 행별로 정렬된 모습"
   ]
  },
  {
   "cell_type": "code",
   "execution_count": 18,
   "metadata": {},
   "outputs": [
    {
     "name": "stdout",
     "output_type": "stream",
     "text": [
      "[[ 1.71361706 -1.39846694  1.44384403]\n",
      " [-0.2764774  -0.23821622 -1.096304  ]\n",
      " [-3.18230161  2.8214342   1.39753731]]\n",
      "[[ 1.71361706 -1.39846694  1.44384403]\n",
      " [-0.2764774  -0.23821622 -1.096304  ]\n",
      " [-3.18230161  2.8214342   1.39753731]]\n",
      "\n",
      "-0.5407583180361959\n",
      "\n",
      "[[ 3.56730319 -0.38978817 -0.17305708]\n",
      " [-0.18910906  0.3522893  -0.50529179]\n",
      " [-0.77080427 -0.77348985 -0.19517602]]\n",
      "\n"
     ]
    }
   ],
   "source": [
    "# 선형대수 함수\n",
    "# 행렬곱 연산 dot 함수 (python 3.5 이상 부터는 @라는 연산자로 dot 대체가능 ex)a @ b)\n",
    "a = np.random.randn(3,4)\n",
    "b= np.random.randn(4,3)\n",
    "print(a.dot(b),np.dot(a,b),sep='\\n',end='\\n\\n')\n",
    "\n",
    "# numpy.linalg -> 역행렬, 행렬식, 분해 함수 등 포함\n",
    "\n",
    "from numpy.linalg import inv, det\n",
    "\n",
    "X = np.random.randn(3, 3)\n",
    "print(det(X),end='\\n\\n') # 행렬식 return\n",
    "print(inv(X),end='\\n\\n') # 역행렬 return\n"
   ]
  },
  {
   "cell_type": "code",
   "execution_count": 16,
   "metadata": {},
   "outputs": [
    {
     "name": "stdout",
     "output_type": "stream",
     "text": [
      "[ 3.  9.  5. 10.  2.  7.  8.  4.  1.  6.]\n",
      "[ 4.  6.  2.  3. 10.  9.  1.  7.  8.  5.]\n",
      "[[0.81216873 0.47997717]\n",
      " [0.3927848  0.83607876]\n",
      " [0.33739616 0.64817187]]\n",
      "0\n",
      "[1 1 1 1 1 0 1 0 1 0]\n"
     ]
    }
   ],
   "source": [
    "#numpy.random\n",
    "np.random.seed(0)\n",
    "# 난수 생성 -> 이후 항상 같은 난수 사용\n",
    "#np.random.RandomState(123) 국소적 난수 생성\n",
    "\n",
    "# shuffle과 permutation\n",
    "# shuffle은 원본 배열의 순서를 변경, permutation은 수정된 객체 반환\n",
    "arr = np.linspace(1,10,10)\n",
    "print(np.random.permutation(arr))\n",
    "np.random.shuffle(arr)\n",
    "print(arr)\n",
    "\n",
    "# rand와 randint\n",
    "print(np.random.rand(3,2),np.random.randint(5),sep='\\n') # rand는 0~1의 uniform dist에서 인자 사이즈의 배열 return, randint는 0~4의 uniform 정수 dist에서 정수 한개 return\n",
    "# binomial, gamma,uniform\n",
    "print(np.random.binomial(n=1,p=0.5,size=10)) #n->trial, p->probability"
   ]
  },
  {
   "cell_type": "code",
   "execution_count": 17,
   "metadata": {},
   "outputs": [],
   "source": [
    "# # numpy array file\n",
    "# arr = np.arange(10)\n",
    "# # np.save('./f1',arr) #경로에 배열을 바이너리 파일로 저장 .npy확장자\n",
    "# # arr1 = np.load('./f1.npy') #load\n",
    "# # # 여러 배열 저장\n",
    "# # np.savez('./f2',a =arr, b = arr1) #a와 b라는 key지정 가능, npz라는 확장자\n",
    "# # arr2 = np.load('./f2.npz')\n",
    "# arr['a'] # key로 호출"
   ]
  }
 ],
 "metadata": {
  "kernelspec": {
   "display_name": "Python 3",
   "language": "python",
   "name": "python3"
  },
  "language_info": {
   "codemirror_mode": {
    "name": "ipython",
    "version": 3
   },
   "file_extension": ".py",
   "mimetype": "text/x-python",
   "name": "python",
   "nbconvert_exporter": "python",
   "pygments_lexer": "ipython3",
   "version": "3.11.2"
  }
 },
 "nbformat": 4,
 "nbformat_minor": 2
}
